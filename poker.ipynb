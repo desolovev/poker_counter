{
 "cells": [
  {
   "cell_type": "code",
   "execution_count": 46,
   "metadata": {},
   "outputs": [],
   "source": [
    "import random"
   ]
  },
  {
   "cell_type": "code",
   "execution_count": 52,
   "metadata": {},
   "outputs": [
    {
     "name": "stdout",
     "output_type": "stream",
     "text": [
      "['k3', 'c10', 'k6']\n",
      "['k3', 'c10', 'k6', 'k8']\n",
      "['k3', 'c10', 'k6', 'k8', 'p7']\n",
      "47\n"
     ]
    }
   ],
   "source": [
    "cards = ['b2', 'b3', 'b4', 'b5', 'b6', 'b7', 'b8', 'b9', 'b10', 'bJ', 'bQ', 'bK', 'bA',\n",
    "         'k2', 'k3', 'k4', 'k5', 'k6', 'k7', 'k8', 'k9', 'k10', 'kJ', 'kQ', 'kK', 'kA',\n",
    "         'p2', 'p3', 'p4', 'p5', 'p6', 'p7', 'p8', 'p9', 'p10', 'pJ', 'pQ', 'pK', 'pA',\n",
    "         'c2', 'c3', 'c4', 'c5', 'c6', 'c7', 'c8', 'c9', 'c10', 'cJ', 'cQ', 'cK', 'cA']\n",
    "\n",
    "turn = []\n",
    "flop = []\n",
    "river = []\n",
    "turn  = [random.choice(cards) for i in range(3)]\n",
    "for i in turn:\n",
    "    cards.remove(i)\n",
    "\n",
    "flop.extend(turn)\n",
    "flop.append(random.choice(cards))\n",
    "cards.remove(flop[-1])\n",
    "\n",
    "river.extend(flop)\n",
    "river.append(random.choice(cards))\n",
    "cards.remove(river[-1])\n",
    "\n",
    "print(turn)\n",
    "print(flop)\n",
    "print(river)\n",
    "print(len(cards))"
   ]
  },
  {
   "cell_type": "code",
   "execution_count": 54,
   "metadata": {},
   "outputs": [
    {
     "data": {
      "text/plain": [
       "25.0"
      ]
     },
     "execution_count": 54,
     "metadata": {},
     "output_type": "execute_result"
    }
   ],
   "source": [
    "default_chance_get_suite = 100 / ( len(cards) / (len(cards) / 4) )\n",
    "default_chance_get_suite\n",
    "# need to do for not default"
   ]
  }
 ],
 "metadata": {
  "kernelspec": {
   "display_name": "Python 3",
   "language": "python",
   "name": "python3"
  },
  "language_info": {
   "codemirror_mode": {
    "name": "ipython",
    "version": 3
   },
   "file_extension": ".py",
   "mimetype": "text/x-python",
   "name": "python",
   "nbconvert_exporter": "python",
   "pygments_lexer": "ipython3",
   "version": "3.7.4"
  }
 },
 "nbformat": 4,
 "nbformat_minor": 4
}
